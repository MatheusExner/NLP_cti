{
 "cells": [
  {
   "cell_type": "markdown",
   "metadata": {},
   "source": [
    "Import de Bibliotecas"
   ]
  },
  {
   "cell_type": "code",
   "execution_count": null,
   "metadata": {},
   "outputs": [],
   "source": [
    "import pandas as pd\n",
    "import spacy\n",
    "from sklearn.feature_extraction.text import TfidfVectorizer\n",
    "from sklearn.decomposition import LatentDirichletAllocation\n",
    "from sklearn.model_selection import train_test_split\n",
    "from sklearn.svm import SVC\n",
    "import matplotlib.pyplot as plt\n",
    "import seaborn as sns\n",
    "import numpy as np\n",
    "import re\n",
    "from nltk.stem import PorterStemmer\n",
    "\n",
    "# Carregar o corpus\n",
    "corpus = pd.read_csv('annotated.csv')\n",
    "num_tweets = len(corpus)\n",
    "print(num_tweets)\n",
    "\n",
    "# Carregar o modelo spaCy e o stemmer NLTK\n",
    "nlp = spacy.load('en_core_web_sm')\n",
    "stemmer = PorterStemmer()\n",
    "\n",
    "# Stop words do spaCy\n",
    "stop_words = nlp.Defaults.stop_words"
   ]
  },
  {
   "cell_type": "markdown",
   "metadata": {},
   "source": [
    "Pré-processamento\n"
   ]
  },
  {
   "cell_type": "code",
   "execution_count": null,
   "metadata": {},
   "outputs": [],
   "source": [
    "\n",
    "# Função de pré-processamento\n",
    "def preprocess_text(text):\n",
    "    text = re.sub(r'https?:\\/\\/\\S+', '', text)  # Remover URLs\n",
    "    text = re.sub(r'[^\\w\\s]', '', text)  # Remover símbolos e caracteres especiais\n",
    "    text = text.lower()\n",
    "    doc = nlp(text)\n",
    "    processed_tokens = []\n",
    "    for token in doc:\n",
    "        if token.text not in STOP_WORDS and not token.is_punct and not token.is_space:\n",
    "            lemma = token.lemma_  # Lemmatization\n",
    "            stemmed = stemmer.stem(lemma)  # Stemming\n",
    "            processed_tokens.append(stemmed)\n",
    "    return ' '.join(processed_tokens)\n",
    "\n",
    "corpus['preprocessed_text'] = corpus['text'].apply(preprocess_text)\n",
    "\n",
    "# Outras etapas de pré-processamento e treinamento do modelo permanecem as mesmas\n",
    "\n",
    "def count_entities(text):\n",
    "    doc = nlp(text)\n",
    "    return len(doc.ents)\n",
    "\n",
    "corpus['entity_count'] = corpus['preprocessed_text'].apply(count_entities)"
   ]
  },
  {
   "cell_type": "markdown",
   "metadata": {},
   "source": [
    "Preparação de dados para o modelo"
   ]
  },
  {
   "cell_type": "code",
   "execution_count": null,
   "metadata": {},
   "outputs": [],
   "source": [
    "X = corpus['preprocessed_text']\n",
    "y = corpus['annotation']\n",
    "\n",
    "X_train, X_test, y_train, y_test = train_test_split(X, y, test_size=0.2, random_state=42)\n",
    "\n",
    "# TF-IDF Vectorization\n",
    "tfidf_vectorizer = TfidfVectorizer(max_df=0.9, min_df=3, stop_words='english')\n",
    "X_train_tfidf = tfidf_vectorizer.fit_transform(X_train)\n",
    "X_test_tfidf = tfidf_vectorizer.transform(X_test)\n",
    "\n",
    "# LDA for Topic Modeling\n",
    "lda = LatentDirichletAllocation(n_components=5, random_state=42)\n",
    "X_train_topics = lda.fit_transform(X_train_tfidf)\n",
    "X_test_topics = lda.transform(X_test_tfidf)\n",
    "\n",
    "# Concatenating TF-IDF Vectors with Entity Counts and Topics\n",
    "X_train_final = np.hstack((X_train_tfidf.toarray(), X_train_topics, corpus.loc[X_train.index, 'entity_count'].values[:, None]))\n",
    "X_test_final = np.hstack((X_test_tfidf.toarray(), X_test_topics, corpus.loc[X_test.index, 'entity_count'].values[:, None]))"
   ]
  },
  {
   "cell_type": "markdown",
   "metadata": {},
   "source": [
    "Treinamento do Modelo"
   ]
  },
  {
   "cell_type": "code",
   "execution_count": null,
   "metadata": {},
   "outputs": [],
   "source": [
    "#clf = MultinomialNB()\n",
    "#clf.fit(X_train_final, y_train)\n",
    "\n",
    "#y_pred = clf.predict(X_test_final)\n",
    "\n",
    "# SVM Model\n",
    "svm_clf = SVC(kernel='linear')  # Você pode experimentar com diferentes kernels como 'rbf', 'poly', etc.\n",
    "svm_clf.fit(X_train_final, y_train)\n",
    "\n",
    "y_pred = svm_clf.predict(X_test_final)"
   ]
  },
  {
   "cell_type": "markdown",
   "metadata": {},
   "source": [
    "Métricas"
   ]
  },
  {
   "cell_type": "code",
   "execution_count": null,
   "metadata": {},
   "outputs": [],
   "source": [
    "# Métricas\n",
    "accuracy = accuracy_score(y_test, y_pred)\n",
    "precision = precision_score(y_test, y_pred, average='macro')\n",
    "recall = recall_score(y_test, y_pred, average='macro')\n",
    "f1 = f1_score(y_test, y_pred, average='macro')\n",
    "conf_matrix = confusion_matrix(y_test, y_pred)\n",
    "\n",
    "print(f'Precisão: {precision:.2f}')\n",
    "print(f'Recall: {recall:.2f}')\n",
    "print(f'F1-Score: {f1:.2f}')\n",
    "print(f'Acurácia: {accuracy:.2f}')"
   ]
  },
  {
   "cell_type": "markdown",
   "metadata": {},
   "source": [
    "Gráficos"
   ]
  },
  {
   "cell_type": "code",
   "execution_count": null,
   "metadata": {},
   "outputs": [],
   "source": [
    "plt.figure(figsize=(8, 6))\n",
    "sns.heatmap(conf_matrix, annot=True, fmt='d', cmap='Blues', xticklabels=corpus['annotation'].unique(), yticklabels=corpus['annotation'].unique())\n",
    "plt.xlabel('Previsão do Modelo')\n",
    "plt.ylabel('Realidade')\n",
    "plt.title('Matriz de Confusão')\n",
    "plt.show()\n"
   ]
  }
 ],
 "metadata": {
  "kernelspec": {
   "display_name": "base",
   "language": "python",
   "name": "python3"
  },
  "language_info": {
   "codemirror_mode": {
    "name": "ipython",
    "version": 3
   },
   "file_extension": ".py",
   "mimetype": "text/x-python",
   "name": "python",
   "nbconvert_exporter": "python",
   "pygments_lexer": "ipython3",
   "version": "3.11.5"
  }
 },
 "nbformat": 4,
 "nbformat_minor": 2
}
